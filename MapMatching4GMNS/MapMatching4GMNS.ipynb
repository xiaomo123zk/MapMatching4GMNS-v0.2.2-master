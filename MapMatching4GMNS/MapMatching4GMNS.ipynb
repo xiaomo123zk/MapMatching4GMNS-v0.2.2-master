{
 "cells": [
  {
   "cell_type": "markdown",
   "metadata": {
    "id": "egCYvfC1z5Ru"
   },
   "source": [
    "# **MapMatching4GMNS**\n",
    "\n",
    "MapMatching4GMNS is an open-source, cross-platform, lightweight, and fast Python\n",
    "MapMatching engine for maping GPS traces to the underlying network using General\n",
    "Modeling Network Specification encoded in [GMNS]. Its most likely path\n",
    "finding algorithm takes about 0.02 seconds to process one GPS trace with 50\n",
    "location points in a large-scale network with 10K nodes. Based on input network\n",
    "and given GPS trajectory data, the map-matching program aims to find most likely\n",
    "route in terms of node sequence in the underlying network."
   ]
  },
  {
   "cell_type": "code",
   "execution_count": 2,
   "metadata": {},
   "outputs": [
    {
     "name": "stderr",
     "output_type": "stream",
     "text": [
      "fatal: destination path 'MapMatching4GMNS' already exists and is not an empty directory.\n"
     ]
    }
   ],
   "source": [
    "#\"Clone the Github repository\"\n",
    "!git clone https://github.com/asu-trans-ai-lab/MapMatching4GMNS"
   ]
  },
  {
   "cell_type": "code",
   "execution_count": null,
   "metadata": {},
   "outputs": [],
   "source": []
  },
  {
   "cell_type": "markdown",
   "metadata": {
    "id": "Hg1eOa1Y9P2k"
   },
   "source": [
    "## 1. MapMatching4GMNS modeling"
   ]
  },
  {
   "cell_type": "code",
   "execution_count": 3,
   "metadata": {},
   "outputs": [
    {
     "name": "stdout",
     "output_type": "stream",
     "text": [
      "Requirement already satisfied: MapMatching4GMNS in e:\\pack2\\anaconda\\tool\\lib\\site-packages (0.2)\n"
     ]
    }
   ],
   "source": [
    "# \"\"\"install MapMatching4GMNS\"\"\"\n",
    "!pip install MapMatching4GMNS --upgrade\n",
    "import time"
   ]
  },
  {
   "cell_type": "code",
   "execution_count": 4,
   "metadata": {},
   "outputs": [
    {
     "data": {
      "text/plain": [
       "'\\nTo avoid complex data folder settings, please always first put the input data on the current directory.\\nOnce the package is imported, agent.csv can be generated.\\n'"
      ]
     },
     "execution_count": 4,
     "metadata": {},
     "output_type": "execute_result"
    }
   ],
   "source": [
    "'''\n",
    "To avoid complex data folder settings, please always first put the input data on the current directory.\n",
    "Once the package is imported, agent.csv can be generated.\n",
    "'''"
   ]
  },
  {
   "cell_type": "code",
   "execution_count": 5,
   "metadata": {},
   "outputs": [
    {
     "name": "stdout",
     "output_type": "stream",
     "text": [
      "To avoid complex data folder settings, please always first put the input data on the current directory.\n",
      "call MapMatching4GMNS  dynamic library\n",
      "MapMatching4GMNS time cost: 6.470405 seconds\n",
      "The output data agent.csv is generated!\n",
      "time cost: 6.474364\n"
     ]
    }
   ],
   "source": [
    "start = time.time() \n",
    "# \"\"\"Once the package is imported, agent.csv can be generated\"\"\"\\\n",
    "import MapMatching4GMNS as mmg\n",
    "end = time.time()\n",
    "print('time cost: %.6f'%(end-start))"
   ]
  },
  {
   "cell_type": "markdown",
   "metadata": {
    "id": "rLWCOBCN5l8L"
   },
   "source": [
    "if you use google.colab, you can donwload result data"
   ]
  },
  {
   "cell_type": "code",
   "execution_count": null,
   "metadata": {},
   "outputs": [],
   "source": [
    "#from google.colab import files\n",
    "#files.download(\"/content/agent.csv\")"
   ]
  },
  {
   "cell_type": "markdown",
   "metadata": {
    "id": "Hg1eOa1Y9P2k"
   },
   "source": [
    "## 2. Directly call the MapMatching4GMNS's dynamic library"
   ]
  },
  {
   "cell_type": "code",
   "execution_count": 1,
   "metadata": {
    "colab": {
     "base_uri": "https://localhost:8080/"
    },
    "id": "KOUennxk5vFT",
    "outputId": "61e9516a-039b-4a83-b667-61dc9da17b3e"
   },
   "outputs": [],
   "source": [
    "import ctypes\n",
    "import collections\n",
    "import heapq\n",
    "import os.path\n",
    "from sys import platform\n",
    "import time"
   ]
  },
  {
   "cell_type": "code",
   "execution_count": 2,
   "metadata": {},
   "outputs": [],
   "source": [
    "os.path.exists(\"agent.csv\")\n",
    "os.remove(\"agent.csv\")"
   ]
  },
  {
   "cell_type": "markdown",
   "metadata": {
    "id": "XMSLOiwn5PUu"
   },
   "source": [
    "Mode 2: shortest paths for all agents (to be tested as a change of function names in the recent release)."
   ]
  },
  {
   "cell_type": "code",
   "execution_count": 3,
   "metadata": {},
   "outputs": [],
   "source": [
    "if platform.startswith('win32'):\n",
    "    _dll_file =  './bin/MapMatching4GMNS.dll'\n",
    "elif platform.startswith('linux'):\n",
    "    _dll_file = './bin/MapMatching4GMNS.so'\n",
    "elif platform.startswith('darwin'):\n",
    "    _dll_file =  './bin/MapMatching4GMNS.dylib'\n",
    "else:\n",
    "    raise Exception('Please build the shared library compatible to your OS\\\n",
    "                    using source files in engine_cpp!')\n",
    "\n",
    "_cdll = ctypes.cdll.LoadLibrary(_dll_file)"
   ]
  },
  {
   "cell_type": "code",
   "execution_count": 4,
   "metadata": {
    "id": "JTWWpRHpHJqh"
   },
   "outputs": [
    {
     "name": "stdout",
     "output_type": "stream",
     "text": [
      "MapMatching4GMNS\n",
      "MapMatching4GMNS time cost: 9.646537 seconds\n",
      "The output data agent.csv is generated!\n"
     ]
    }
   ],
   "source": [
    "start = time.time() \n",
    "agent_compu = _cdll.MapMatching4GMNS\n",
    "agent_compu.restype = ctypes.c_double\n",
    "agent = agent_compu()\n",
    "print('MapMatching4GMNS')\n",
    "end = time.time()\n",
    "print('MapMatching4GMNS time cost: %.6f seconds' % (end-start))\n",
    "print(\"The output data agent.csv is generated!\")"
   ]
  },
  {
   "cell_type": "markdown",
   "metadata": {
    "id": "rLWCOBCN5l8L"
   },
   "source": [
    "if you use google.colab, you can donwload result data"
   ]
  },
  {
   "cell_type": "code",
   "execution_count": null,
   "metadata": {
    "colab": {
     "base_uri": "https://localhost:8080/"
    },
    "id": "i_DF2X-BdNRX",
    "outputId": "eadd592a-d560-470f-9533-8ec28f5d9cb5"
   },
   "outputs": [],
   "source": [
    "#from google.colab import files\n",
    "#files.download(\"/content/agent.csv\")"
   ]
  }
 ],
 "metadata": {
  "colab": {
   "name": "“path4gmns.ipynb”的副本",
   "provenance": []
  },
  "kernelspec": {
   "display_name": "Python 3",
   "language": "python",
   "name": "python3"
  },
  "language_info": {
   "codemirror_mode": {
    "name": "ipython",
    "version": 3
   },
   "file_extension": ".py",
   "mimetype": "text/x-python",
   "name": "python",
   "nbconvert_exporter": "python",
   "pygments_lexer": "ipython3",
   "version": "3.8.3"
  }
 },
 "nbformat": 4,
 "nbformat_minor": 1
}
