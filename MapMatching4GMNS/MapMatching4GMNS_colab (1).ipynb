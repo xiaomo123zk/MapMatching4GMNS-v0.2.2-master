{
  "nbformat": 4,
  "nbformat_minor": 0,
  "metadata": {
    "colab": {
      "name": "MapMatching4GMNS_colab.ipynb",
      "provenance": [],
      "collapsed_sections": [],
      "toc_visible": true
    },
    "kernelspec": {
      "name": "python3",
      "display_name": "Python 3"
    },
    "language_info": {
      "name": "python"
    }
  },
  "cells": [
    {
      "cell_type": "code",
      "metadata": {
        "id": "TE2Tu3nN6DE0"
      },
      "source": [
        ""
      ],
      "execution_count": null,
      "outputs": []
    },
    {
      "cell_type": "markdown",
      "metadata": {
        "id": "HjSUZNcY6Huu"
      },
      "source": [
        "# **MapMatching4GMNS**\n",
        "\n",
        "MapMatching4GMNS is an open-source, cross-platform, lightweight, and fast Python\n",
        "MapMatching engine for maping GPS traces to the underlying network using General\n",
        "Modeling Network Specification encoded in [GMNS]. Its most likely path\n",
        "finding algorithm takes about 0.02 seconds to process one GPS trace with 50\n",
        "location points in a large-scale network with 10K nodes. Based on input network\n",
        "and given GPS trajectory data, the map-matching program aims to find most likely\n",
        "route in terms of node sequence in the underlying network."
      ]
    },
    {
      "cell_type": "code",
      "metadata": {
        "id": "9lsqus2w6J6E",
        "colab": {
          "base_uri": "https://localhost:8080/"
        },
        "outputId": "e8ae388f-c04d-4ee7-9089-469f062dff9f"
      },
      "source": [
        "#\"Clone the Github repository\"\n",
        "!git clone https://github.com/asu-trans-ai-lab/MapMatching4GMNS"
      ],
      "execution_count": 1,
      "outputs": [
        {
          "output_type": "stream",
          "text": [
            "Cloning into 'MapMatching4GMNS'...\n",
            "remote: Enumerating objects: 268, done.\u001b[K\n",
            "remote: Counting objects: 100% (268/268), done.\u001b[K\n",
            "remote: Compressing objects: 100% (203/203), done.\u001b[K\n",
            "remote: Total 268 (delta 102), reused 213 (delta 53), pack-reused 0\u001b[K\n",
            "Receiving objects: 100% (268/268), 73.03 MiB | 21.39 MiB/s, done.\n",
            "Resolving deltas: 100% (102/102), done.\n"
          ],
          "name": "stdout"
        }
      ]
    },
    {
      "cell_type": "markdown",
      "metadata": {
        "id": "m31wPwOf6LyN"
      },
      "source": [
        "## 1. MapMatching4GMNS modeling"
      ]
    },
    {
      "cell_type": "code",
      "metadata": {
        "colab": {
          "base_uri": "https://localhost:8080/"
        },
        "id": "qj5fvt6T6Nfk",
        "outputId": "f7b24531-ff4c-4006-d2b9-9470b0a7ee77"
      },
      "source": [
        "# \"\"\"install MapMatching4GMNS\"\"\"\n",
        "!pip install MapMatching4GMNS --upgrade\n"
      ],
      "execution_count": 2,
      "outputs": [
        {
          "output_type": "stream",
          "text": [
            "Collecting MapMatching4GMNS\n",
            "\u001b[?25l  Downloading https://files.pythonhosted.org/packages/10/d2/3b79a9f106050d3296eb24439f829dd6cfdc53617d2d173f46a28305421a/MapMatching4GMNS-0.2.4.3.tar.gz (160kB)\n",
            "\u001b[K     |████████████████████████████████| 163kB 5.0MB/s \n",
            "\u001b[?25hBuilding wheels for collected packages: MapMatching4GMNS\n",
            "  Building wheel for MapMatching4GMNS (setup.py) ... \u001b[?25l\u001b[?25hdone\n",
            "  Created wheel for MapMatching4GMNS: filename=MapMatching4GMNS-0.2.4.3-cp37-none-any.whl size=161319 sha256=4463de8777cccd820c1379f4e7bfc30dcd924918cbce9ac03d602579fc659095\n",
            "  Stored in directory: /root/.cache/pip/wheels/3c/59/4c/5d45be3757233b4552eff6cbe10ec10b74b480dab3457ca318\n",
            "Successfully built MapMatching4GMNS\n",
            "Installing collected packages: MapMatching4GMNS\n",
            "Successfully installed MapMatching4GMNS-0.2.4.3\n"
          ],
          "name": "stdout"
        }
      ]
    },
    {
      "cell_type": "markdown",
      "metadata": {
        "id": "QlE2htTQ6O_U"
      },
      "source": [
        "To avoid complex data folder settings, please always first put the input data on the current directory.\n",
        "Once the package is imported, agent.csv can be generated."
      ]
    },
    {
      "cell_type": "markdown",
      "metadata": {
        "id": "bT3SmRwPFjmy"
      },
      "source": [
        "If you use colab to run the code, please download \"node.csv\",\"link.csv\",\"trace.csv\" from https://github.com/asu-trans-ai-lab/MapMatching4GMNS/tree/master/release, and upload them to the content folder."
      ]
    },
    {
      "cell_type": "code",
      "metadata": {
        "colab": {
          "base_uri": "https://localhost:8080/"
        },
        "id": "YKybMq-r6W79",
        "outputId": "b570398e-cb72-4f77-cbc7-939ccb8dc946"
      },
      "source": [
        "from MapMatching4GMNS  import *\n",
        "import time\n",
        "import os.path"
      ],
      "execution_count": 1,
      "outputs": [
        {
          "output_type": "stream",
          "text": [
            "To avoid complex data folder settings, please always first put the input data on the current directory.\n",
            "call MapMatching4GMNS  dynamic library\n",
            "To avoid complex data folder settings, please always first put the input data on the current directory.\n",
            "call MapMatching4GMNS  dynamic library\n",
            "MapMatching4GMNS, version 0.2.4.3\n"
          ],
          "name": "stdout"
        }
      ]
    },
    {
      "cell_type": "code",
      "metadata": {
        "colab": {
          "base_uri": "https://localhost:8080/",
          "height": 35
        },
        "id": "pnavejI7WAI5",
        "outputId": "327b74a3-70ff-4d09-a9fe-0e07999fd5e8"
      },
      "source": [
        "import shutil\n",
        "src = '/content/MapMatching4GMNS/release/node.csv'\n",
        "dst = '/content/'\n",
        "shutil.copy(src, dst)\n",
        "src = '/content/MapMatching4GMNS/release/link.csv'\n",
        "dst = '/content/'\n",
        "shutil.copy(src, dst)\n",
        "src = '/content/MapMatching4GMNS/release/trace.csv'\n",
        "dst = '/content/'\n",
        "shutil.copy(src, dst)"
      ],
      "execution_count": 2,
      "outputs": [
        {
          "output_type": "execute_result",
          "data": {
            "application/vnd.google.colaboratory.intrinsic+json": {
              "type": "string"
            },
            "text/plain": [
              "'/content/trace.csv'"
            ]
          },
          "metadata": {
            "tags": []
          },
          "execution_count": 2
        }
      ]
    },
    {
      "cell_type": "markdown",
      "metadata": {
        "id": "n8W_HP1GWMnE"
      },
      "source": [
        "'''Two modes:\n",
        "\n",
        "    modes 0: reading trace.csv, then automaticically generate input_agent.csv and output agent.csv\n",
        "    model 1: reading input_agent.csv, then output agent.csv and link_performance.csv\n",
        "'''"
      ]
    },
    {
      "cell_type": "code",
      "metadata": {
        "id": "TI-kvJAGWlT5"
      },
      "source": [
        ""
      ],
      "execution_count": 6,
      "outputs": []
    },
    {
      "cell_type": "code",
      "metadata": {
        "colab": {
          "base_uri": "https://localhost:8080/"
        },
        "id": "KGUM7oCrWIDY",
        "outputId": "7a4b0431-bd47-40ff-a0af-bde83cb195a3"
      },
      "source": [
        "if __name__ == \"__main__\":\n",
        "\n",
        "    if(os.path.exists(\"agent.csv\")):\n",
        "       os.remove(\"agent.csv\")\n",
        "    if(os.path.exists(\"link_performance.csv\")):\n",
        "       os.remove(\"link_performance.csv\")\n",
        "\n",
        "    mode = 1 # user can set mode 0, or mode 1\n",
        "\n",
        "    start = time.time()\n",
        "    MapMatching4GMNS._optimal_MapMatching4GMNS_CAPI(mode)\n",
        "    end = time.time()\n",
        "    \n",
        "    print('MapMatching4GMNS time cost: %.6f seconds' % (end - start))\n",
        "    print(\"The output data is generated!\")"
      ],
      "execution_count": 3,
      "outputs": [
        {
          "output_type": "stream",
          "text": [
            "\\MapMatching4GMNS run starts\n",
            "\\MapMatching4GMNS run completes\n",
            "MapMatching4GMNS time cost: 0.218068 seconds\n",
            "The output data is generated!\n"
          ],
          "name": "stdout"
        }
      ]
    },
    {
      "cell_type": "markdown",
      "metadata": {
        "id": "iuvhlU8M6ZPG"
      },
      "source": [
        "if you use google.colab, you can donwload result data"
      ]
    },
    {
      "cell_type": "code",
      "metadata": {
        "colab": {
          "base_uri": "https://localhost:8080/",
          "height": 17
        },
        "id": "xA_cV2fS6Z7X",
        "outputId": "19a24dda-9ba9-44c9-d317-35ec888c3a45"
      },
      "source": [
        "from google.colab import files\n",
        "files.download(\"/content/agent.csv\")\n",
        "files.download(\"/content/input_agent.csv\")\n",
        "files.download(\"/content/link_performance.csv\")"
      ],
      "execution_count": null,
      "outputs": [
        {
          "output_type": "display_data",
          "data": {
            "application/javascript": [
              "\n",
              "    async function download(id, filename, size) {\n",
              "      if (!google.colab.kernel.accessAllowed) {\n",
              "        return;\n",
              "      }\n",
              "      const div = document.createElement('div');\n",
              "      const label = document.createElement('label');\n",
              "      label.textContent = `Downloading \"${filename}\": `;\n",
              "      div.appendChild(label);\n",
              "      const progress = document.createElement('progress');\n",
              "      progress.max = size;\n",
              "      div.appendChild(progress);\n",
              "      document.body.appendChild(div);\n",
              "\n",
              "      const buffers = [];\n",
              "      let downloaded = 0;\n",
              "\n",
              "      const channel = await google.colab.kernel.comms.open(id);\n",
              "      // Send a message to notify the kernel that we're ready.\n",
              "      channel.send({})\n",
              "\n",
              "      for await (const message of channel.messages) {\n",
              "        // Send a message to notify the kernel that we're ready.\n",
              "        channel.send({})\n",
              "        if (message.buffers) {\n",
              "          for (const buffer of message.buffers) {\n",
              "            buffers.push(buffer);\n",
              "            downloaded += buffer.byteLength;\n",
              "            progress.value = downloaded;\n",
              "          }\n",
              "        }\n",
              "      }\n",
              "      const blob = new Blob(buffers, {type: 'application/binary'});\n",
              "      const a = document.createElement('a');\n",
              "      a.href = window.URL.createObjectURL(blob);\n",
              "      a.download = filename;\n",
              "      div.appendChild(a);\n",
              "      a.click();\n",
              "      div.remove();\n",
              "    }\n",
              "  "
            ],
            "text/plain": [
              "<IPython.core.display.Javascript object>"
            ]
          },
          "metadata": {
            "tags": []
          }
        },
        {
          "output_type": "display_data",
          "data": {
            "application/javascript": [
              "download(\"download_8e1e0ee1-2eb8-441d-9a4a-f48e9c31fa10\", \"agent.csv\", 1763)"
            ],
            "text/plain": [
              "<IPython.core.display.Javascript object>"
            ]
          },
          "metadata": {
            "tags": []
          }
        },
        {
          "output_type": "display_data",
          "data": {
            "application/javascript": [
              "\n",
              "    async function download(id, filename, size) {\n",
              "      if (!google.colab.kernel.accessAllowed) {\n",
              "        return;\n",
              "      }\n",
              "      const div = document.createElement('div');\n",
              "      const label = document.createElement('label');\n",
              "      label.textContent = `Downloading \"${filename}\": `;\n",
              "      div.appendChild(label);\n",
              "      const progress = document.createElement('progress');\n",
              "      progress.max = size;\n",
              "      div.appendChild(progress);\n",
              "      document.body.appendChild(div);\n",
              "\n",
              "      const buffers = [];\n",
              "      let downloaded = 0;\n",
              "\n",
              "      const channel = await google.colab.kernel.comms.open(id);\n",
              "      // Send a message to notify the kernel that we're ready.\n",
              "      channel.send({})\n",
              "\n",
              "      for await (const message of channel.messages) {\n",
              "        // Send a message to notify the kernel that we're ready.\n",
              "        channel.send({})\n",
              "        if (message.buffers) {\n",
              "          for (const buffer of message.buffers) {\n",
              "            buffers.push(buffer);\n",
              "            downloaded += buffer.byteLength;\n",
              "            progress.value = downloaded;\n",
              "          }\n",
              "        }\n",
              "      }\n",
              "      const blob = new Blob(buffers, {type: 'application/binary'});\n",
              "      const a = document.createElement('a');\n",
              "      a.href = window.URL.createObjectURL(blob);\n",
              "      a.download = filename;\n",
              "      div.appendChild(a);\n",
              "      a.click();\n",
              "      div.remove();\n",
              "    }\n",
              "  "
            ],
            "text/plain": [
              "<IPython.core.display.Javascript object>"
            ]
          },
          "metadata": {
            "tags": []
          }
        },
        {
          "output_type": "display_data",
          "data": {
            "application/javascript": [
              "download(\"download_9c39b95f-d449-4fcf-81f9-b293ce486b28\", \"input_agent.csv\", 5017)"
            ],
            "text/plain": [
              "<IPython.core.display.Javascript object>"
            ]
          },
          "metadata": {
            "tags": []
          }
        },
        {
          "output_type": "display_data",
          "data": {
            "application/javascript": [
              "\n",
              "    async function download(id, filename, size) {\n",
              "      if (!google.colab.kernel.accessAllowed) {\n",
              "        return;\n",
              "      }\n",
              "      const div = document.createElement('div');\n",
              "      const label = document.createElement('label');\n",
              "      label.textContent = `Downloading \"${filename}\": `;\n",
              "      div.appendChild(label);\n",
              "      const progress = document.createElement('progress');\n",
              "      progress.max = size;\n",
              "      div.appendChild(progress);\n",
              "      document.body.appendChild(div);\n",
              "\n",
              "      const buffers = [];\n",
              "      let downloaded = 0;\n",
              "\n",
              "      const channel = await google.colab.kernel.comms.open(id);\n",
              "      // Send a message to notify the kernel that we're ready.\n",
              "      channel.send({})\n",
              "\n",
              "      for await (const message of channel.messages) {\n",
              "        // Send a message to notify the kernel that we're ready.\n",
              "        channel.send({})\n",
              "        if (message.buffers) {\n",
              "          for (const buffer of message.buffers) {\n",
              "            buffers.push(buffer);\n",
              "            downloaded += buffer.byteLength;\n",
              "            progress.value = downloaded;\n",
              "          }\n",
              "        }\n",
              "      }\n",
              "      const blob = new Blob(buffers, {type: 'application/binary'});\n",
              "      const a = document.createElement('a');\n",
              "      a.href = window.URL.createObjectURL(blob);\n",
              "      a.download = filename;\n",
              "      div.appendChild(a);\n",
              "      a.click();\n",
              "      div.remove();\n",
              "    }\n",
              "  "
            ],
            "text/plain": [
              "<IPython.core.display.Javascript object>"
            ]
          },
          "metadata": {
            "tags": []
          }
        },
        {
          "output_type": "display_data",
          "data": {
            "application/javascript": [
              "download(\"download_7f938efc-bb9e-493d-8b23-5a42330a24f4\", \"link_performance.csv\", 2291)"
            ],
            "text/plain": [
              "<IPython.core.display.Javascript object>"
            ]
          },
          "metadata": {
            "tags": []
          }
        }
      ]
    }
  ]
}