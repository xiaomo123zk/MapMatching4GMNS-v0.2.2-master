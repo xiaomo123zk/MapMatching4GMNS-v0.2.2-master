{
  "nbformat": 4,
  "nbformat_minor": 0,
  "metadata": {
    "colab": {
      "name": "MapMatching4GMNS_colab.ipynb",
      "provenance": [],
      "authorship_tag": "ABX9TyNxkCegRkfGJWqxNd+pTECu",
      "include_colab_link": true
    },
    "kernelspec": {
      "name": "python3",
      "display_name": "Python 3"
    },
    "language_info": {
      "name": "python"
    }
  },
  "cells": [
    {
      "cell_type": "markdown",
      "metadata": {
        "id": "view-in-github",
        "colab_type": "text"
      },
      "source": [
        "<a href=\"https://colab.research.google.com/github/xiaomo123zk/trace2route/blob/master/MapMatching4GMNS_colab.ipynb\" target=\"_parent\"><img src=\"https://colab.research.google.com/assets/colab-badge.svg\" alt=\"Open In Colab\"/></a>"
      ]
    },
    {
      "cell_type": "code",
      "metadata": {
        "id": "TE2Tu3nN6DE0"
      },
      "source": [
        ""
      ],
      "execution_count": null,
      "outputs": []
    },
    {
      "cell_type": "markdown",
      "metadata": {
        "id": "HjSUZNcY6Huu"
      },
      "source": [
        "# **MapMatching4GMNS**\n",
        "\n",
        "MapMatching4GMNS is an open-source, cross-platform, lightweight, and fast Python\n",
        "MapMatching engine for maping GPS traces to the underlying network using General\n",
        "Modeling Network Specification encoded in [GMNS]. Its most likely path\n",
        "finding algorithm takes about 0.02 seconds to process one GPS trace with 50\n",
        "location points in a large-scale network with 10K nodes. Based on input network\n",
        "and given GPS trajectory data, the map-matching program aims to find most likely\n",
        "route in terms of node sequence in the underlying network."
      ]
    },
    {
      "cell_type": "code",
      "metadata": {
        "id": "9lsqus2w6J6E"
      },
      "source": [
        "#\"Clone the Github repository\"\n",
        "!git clone https://github.com/asu-trans-ai-lab/MapMatching4GMNS"
      ],
      "execution_count": null,
      "outputs": []
    },
    {
      "cell_type": "markdown",
      "metadata": {
        "id": "m31wPwOf6LyN"
      },
      "source": [
        "## 1. MapMatching4GMNS modeling"
      ]
    },
    {
      "cell_type": "code",
      "metadata": {
        "colab": {
          "base_uri": "https://localhost:8080/"
        },
        "id": "qj5fvt6T6Nfk",
        "outputId": "d8e05a97-bfc5-495b-ab82-24c9d8a21c28"
      },
      "source": [
        "# \"\"\"install MapMatching4GMNS\"\"\"\n",
        "!pip install MapMatching4GMNS --upgrade\n"
      ],
      "execution_count": 1,
      "outputs": [
        {
          "output_type": "stream",
          "text": [
            "Collecting MapMatching4GMNS\n",
            "\u001b[?25l  Downloading https://files.pythonhosted.org/packages/89/a1/218b4918946b352d3062e070efeefcf76df75020df958e4a18f127a9eefe/MapMatching4GMNS-0.2.2.tar.gz (166kB)\n",
            "\r\u001b[K     |██                              | 10kB 18.6MB/s eta 0:00:01\r\u001b[K     |████                            | 20kB 18.6MB/s eta 0:00:01\r\u001b[K     |██████                          | 30kB 15.8MB/s eta 0:00:01\r\u001b[K     |███████▉                        | 40kB 14.0MB/s eta 0:00:01\r\u001b[K     |█████████▉                      | 51kB 8.6MB/s eta 0:00:01\r\u001b[K     |███████████▉                    | 61kB 8.5MB/s eta 0:00:01\r\u001b[K     |█████████████▉                  | 71kB 9.6MB/s eta 0:00:01\r\u001b[K     |███████████████▊                | 81kB 10.4MB/s eta 0:00:01\r\u001b[K     |█████████████████▊              | 92kB 9.5MB/s eta 0:00:01\r\u001b[K     |███████████████████▊            | 102kB 8.1MB/s eta 0:00:01\r\u001b[K     |█████████████████████▊          | 112kB 8.1MB/s eta 0:00:01\r\u001b[K     |███████████████████████▋        | 122kB 8.1MB/s eta 0:00:01\r\u001b[K     |█████████████████████████▋      | 133kB 8.1MB/s eta 0:00:01\r\u001b[K     |███████████████████████████▋    | 143kB 8.1MB/s eta 0:00:01\r\u001b[K     |█████████████████████████████▋  | 153kB 8.1MB/s eta 0:00:01\r\u001b[K     |███████████████████████████████▌| 163kB 8.1MB/s eta 0:00:01\r\u001b[K     |████████████████████████████████| 174kB 8.1MB/s \n",
            "\u001b[?25hBuilding wheels for collected packages: MapMatching4GMNS\n",
            "  Building wheel for MapMatching4GMNS (setup.py) ... \u001b[?25l\u001b[?25hdone\n",
            "  Created wheel for MapMatching4GMNS: filename=MapMatching4GMNS-0.2.2-cp37-none-any.whl size=166568 sha256=17b7e3a738565bfcfb5f4d145d9372ab7483a23ad9c2eeef6b03c7a5770c5124\n",
            "  Stored in directory: /root/.cache/pip/wheels/85/53/8d/fe035749cfe8dd55a504bcd7e102d619279cffebd77a6ca748\n",
            "Successfully built MapMatching4GMNS\n",
            "Installing collected packages: MapMatching4GMNS\n",
            "Successfully installed MapMatching4GMNS-0.2.2\n"
          ],
          "name": "stdout"
        }
      ]
    },
    {
      "cell_type": "markdown",
      "metadata": {
        "id": "QlE2htTQ6O_U"
      },
      "source": [
        "To avoid complex data folder settings, please always first put the input data on the current directory.\n",
        "Once the package is imported, agent.csv can be generated."
      ]
    },
    {
      "cell_type": "markdown",
      "metadata": {
        "id": "bT3SmRwPFjmy"
      },
      "source": [
        "If you use colab to run the code, please download \"node.csv\",\"link.csv\",\"trace.csv\" from https://github.com/asu-trans-ai-lab/MapMatching4GMNS/tree/master/release, and upload them to the content folder."
      ]
    },
    {
      "cell_type": "code",
      "metadata": {
        "colab": {
          "base_uri": "https://localhost:8080/"
        },
        "id": "YKybMq-r6W79",
        "outputId": "c2aed8d4-f86d-4e12-a0b5-41066cb65a49"
      },
      "source": [
        "import time\n",
        "start = time.time() \n",
        "# \"\"\"Once the package is imported, agent.csv can be generated\"\"\"\\\n",
        "import MapMatching4GMNS as mmg\n",
        "end = time.time()\n",
        "print('time cost: %.6f'%(end-start))"
      ],
      "execution_count": 2,
      "outputs": [
        {
          "output_type": "stream",
          "text": [
            "To avoid complex data folder settings, please always first put the input data on the current directory.\n",
            "call MapMatching4GMNS  dynamic library\n",
            "MapMatching4GMNS time cost: 0.252722 seconds\n",
            "The output data agent.csv is generated!\n",
            "MapMatching4GMNS, version 0.2.2\n",
            "time cost: 0.255402\n"
          ],
          "name": "stdout"
        }
      ]
    },
    {
      "cell_type": "markdown",
      "metadata": {
        "id": "iuvhlU8M6ZPG"
      },
      "source": [
        "if you use google.colab, you can donwload result data"
      ]
    },
    {
      "cell_type": "code",
      "metadata": {
        "colab": {
          "base_uri": "https://localhost:8080/",
          "height": 17
        },
        "id": "xA_cV2fS6Z7X",
        "outputId": "19a24dda-9ba9-44c9-d317-35ec888c3a45"
      },
      "source": [
        "from google.colab import files\n",
        "files.download(\"/content/agent.csv\")\n",
        "files.download(\"/content/input_agent.csv\")\n",
        "files.download(\"/content/link_performance.csv\")"
      ],
      "execution_count": 5,
      "outputs": [
        {
          "output_type": "display_data",
          "data": {
            "application/javascript": [
              "\n",
              "    async function download(id, filename, size) {\n",
              "      if (!google.colab.kernel.accessAllowed) {\n",
              "        return;\n",
              "      }\n",
              "      const div = document.createElement('div');\n",
              "      const label = document.createElement('label');\n",
              "      label.textContent = `Downloading \"${filename}\": `;\n",
              "      div.appendChild(label);\n",
              "      const progress = document.createElement('progress');\n",
              "      progress.max = size;\n",
              "      div.appendChild(progress);\n",
              "      document.body.appendChild(div);\n",
              "\n",
              "      const buffers = [];\n",
              "      let downloaded = 0;\n",
              "\n",
              "      const channel = await google.colab.kernel.comms.open(id);\n",
              "      // Send a message to notify the kernel that we're ready.\n",
              "      channel.send({})\n",
              "\n",
              "      for await (const message of channel.messages) {\n",
              "        // Send a message to notify the kernel that we're ready.\n",
              "        channel.send({})\n",
              "        if (message.buffers) {\n",
              "          for (const buffer of message.buffers) {\n",
              "            buffers.push(buffer);\n",
              "            downloaded += buffer.byteLength;\n",
              "            progress.value = downloaded;\n",
              "          }\n",
              "        }\n",
              "      }\n",
              "      const blob = new Blob(buffers, {type: 'application/binary'});\n",
              "      const a = document.createElement('a');\n",
              "      a.href = window.URL.createObjectURL(blob);\n",
              "      a.download = filename;\n",
              "      div.appendChild(a);\n",
              "      a.click();\n",
              "      div.remove();\n",
              "    }\n",
              "  "
            ],
            "text/plain": [
              "<IPython.core.display.Javascript object>"
            ]
          },
          "metadata": {
            "tags": []
          }
        },
        {
          "output_type": "display_data",
          "data": {
            "application/javascript": [
              "download(\"download_8e1e0ee1-2eb8-441d-9a4a-f48e9c31fa10\", \"agent.csv\", 1763)"
            ],
            "text/plain": [
              "<IPython.core.display.Javascript object>"
            ]
          },
          "metadata": {
            "tags": []
          }
        },
        {
          "output_type": "display_data",
          "data": {
            "application/javascript": [
              "\n",
              "    async function download(id, filename, size) {\n",
              "      if (!google.colab.kernel.accessAllowed) {\n",
              "        return;\n",
              "      }\n",
              "      const div = document.createElement('div');\n",
              "      const label = document.createElement('label');\n",
              "      label.textContent = `Downloading \"${filename}\": `;\n",
              "      div.appendChild(label);\n",
              "      const progress = document.createElement('progress');\n",
              "      progress.max = size;\n",
              "      div.appendChild(progress);\n",
              "      document.body.appendChild(div);\n",
              "\n",
              "      const buffers = [];\n",
              "      let downloaded = 0;\n",
              "\n",
              "      const channel = await google.colab.kernel.comms.open(id);\n",
              "      // Send a message to notify the kernel that we're ready.\n",
              "      channel.send({})\n",
              "\n",
              "      for await (const message of channel.messages) {\n",
              "        // Send a message to notify the kernel that we're ready.\n",
              "        channel.send({})\n",
              "        if (message.buffers) {\n",
              "          for (const buffer of message.buffers) {\n",
              "            buffers.push(buffer);\n",
              "            downloaded += buffer.byteLength;\n",
              "            progress.value = downloaded;\n",
              "          }\n",
              "        }\n",
              "      }\n",
              "      const blob = new Blob(buffers, {type: 'application/binary'});\n",
              "      const a = document.createElement('a');\n",
              "      a.href = window.URL.createObjectURL(blob);\n",
              "      a.download = filename;\n",
              "      div.appendChild(a);\n",
              "      a.click();\n",
              "      div.remove();\n",
              "    }\n",
              "  "
            ],
            "text/plain": [
              "<IPython.core.display.Javascript object>"
            ]
          },
          "metadata": {
            "tags": []
          }
        },
        {
          "output_type": "display_data",
          "data": {
            "application/javascript": [
              "download(\"download_9c39b95f-d449-4fcf-81f9-b293ce486b28\", \"input_agent.csv\", 5017)"
            ],
            "text/plain": [
              "<IPython.core.display.Javascript object>"
            ]
          },
          "metadata": {
            "tags": []
          }
        },
        {
          "output_type": "display_data",
          "data": {
            "application/javascript": [
              "\n",
              "    async function download(id, filename, size) {\n",
              "      if (!google.colab.kernel.accessAllowed) {\n",
              "        return;\n",
              "      }\n",
              "      const div = document.createElement('div');\n",
              "      const label = document.createElement('label');\n",
              "      label.textContent = `Downloading \"${filename}\": `;\n",
              "      div.appendChild(label);\n",
              "      const progress = document.createElement('progress');\n",
              "      progress.max = size;\n",
              "      div.appendChild(progress);\n",
              "      document.body.appendChild(div);\n",
              "\n",
              "      const buffers = [];\n",
              "      let downloaded = 0;\n",
              "\n",
              "      const channel = await google.colab.kernel.comms.open(id);\n",
              "      // Send a message to notify the kernel that we're ready.\n",
              "      channel.send({})\n",
              "\n",
              "      for await (const message of channel.messages) {\n",
              "        // Send a message to notify the kernel that we're ready.\n",
              "        channel.send({})\n",
              "        if (message.buffers) {\n",
              "          for (const buffer of message.buffers) {\n",
              "            buffers.push(buffer);\n",
              "            downloaded += buffer.byteLength;\n",
              "            progress.value = downloaded;\n",
              "          }\n",
              "        }\n",
              "      }\n",
              "      const blob = new Blob(buffers, {type: 'application/binary'});\n",
              "      const a = document.createElement('a');\n",
              "      a.href = window.URL.createObjectURL(blob);\n",
              "      a.download = filename;\n",
              "      div.appendChild(a);\n",
              "      a.click();\n",
              "      div.remove();\n",
              "    }\n",
              "  "
            ],
            "text/plain": [
              "<IPython.core.display.Javascript object>"
            ]
          },
          "metadata": {
            "tags": []
          }
        },
        {
          "output_type": "display_data",
          "data": {
            "application/javascript": [
              "download(\"download_7f938efc-bb9e-493d-8b23-5a42330a24f4\", \"link_performance.csv\", 2291)"
            ],
            "text/plain": [
              "<IPython.core.display.Javascript object>"
            ]
          },
          "metadata": {
            "tags": []
          }
        }
      ]
    }
  ]
}