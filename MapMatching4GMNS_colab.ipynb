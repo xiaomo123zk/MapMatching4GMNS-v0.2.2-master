{
  "nbformat": 4,
  "nbformat_minor": 0,
  "metadata": {
    "colab": {
      "name": "MapMatching4GMNS_colab.ipynb",
      "provenance": [],
      "collapsed_sections": [],
      "toc_visible": true,
      "authorship_tag": "ABX9TyPgIe2MwTC9qhk0/gX6VvkA",
      "include_colab_link": true
    },
    "kernelspec": {
      "name": "python3",
      "display_name": "Python 3"
    },
    "language_info": {
      "name": "python"
    }
  },
  "cells": [
    {
      "cell_type": "markdown",
      "metadata": {
        "id": "view-in-github",
        "colab_type": "text"
      },
      "source": [
        "<a href=\"https://colab.research.google.com/github/xiaomo123zk/MapMatching4GMNS-v0.2.2-master/blob/master/MapMatching4GMNS_colab.ipynb\" target=\"_parent\"><img src=\"https://colab.research.google.com/assets/colab-badge.svg\" alt=\"Open In Colab\"/></a>"
      ]
    },
    {
      "cell_type": "code",
      "metadata": {
        "id": "TE2Tu3nN6DE0"
      },
      "source": [
        ""
      ],
      "execution_count": null,
      "outputs": []
    },
    {
      "cell_type": "markdown",
      "metadata": {
        "id": "HjSUZNcY6Huu"
      },
      "source": [
        "# **MapMatching4GMNS**\n",
        "\n",
        "MapMatching4GMNS is an open-source, cross-platform, lightweight, and fast Python\n",
        "MapMatching engine for maping GPS traces to the underlying network using General\n",
        "Modeling Network Specification encoded in [GMNS]. Its most likely path\n",
        "finding algorithm takes about 0.02 seconds to process one GPS trace with 50\n",
        "location points in a large-scale network with 10K nodes. Based on input network\n",
        "and given GPS trajectory data, the map-matching program aims to find most likely\n",
        "route in terms of node sequence in the underlying network."
      ]
    },
    {
      "cell_type": "code",
      "metadata": {
        "id": "9lsqus2w6J6E",
        "colab": {
          "base_uri": "https://localhost:8080/"
        },
        "outputId": "3e03d1eb-abe4-4785-c29f-77bac10f1727"
      },
      "source": [
        "#\"Clone the Github repository\"\n",
        "!git clone https://github.com/asu-trans-ai-lab/osm_test_data_set"
      ],
      "execution_count": null,
      "outputs": [
        {
          "output_type": "stream",
          "text": [
            "Cloning into 'MapMatching4GMNS'...\n",
            "remote: Enumerating objects: 274, done.\u001b[K\n",
            "remote: Counting objects: 100% (274/274), done.\u001b[K\n",
            "remote: Compressing objects: 100% (211/211), done.\u001b[K\n",
            "remote: Total 274 (delta 105), reused 209 (delta 51), pack-reused 0\u001b[K\n",
            "Receiving objects: 100% (274/274), 73.04 MiB | 21.62 MiB/s, done.\n",
            "Resolving deltas: 100% (105/105), done.\n"
          ],
          "name": "stdout"
        }
      ]
    },
    {
      "cell_type": "code",
      "metadata": {
        "id": "GrEtKCUCfJgD"
      },
      "source": [
        "#To avoid complex data folder settings, put the input data on the current directory.\n",
        "import shutil\n",
        "src = '/content/osm_test_data_set/datasets/map_matching/node.csv'\n",
        "dst = '/content/'\n",
        "shutil.copy(src, dst)\n",
        "src = '/content/osm_test_data_set/datasets/map_matching/link.csv'\n",
        "dst = '/content/'\n",
        "shutil.copy(src, dst)\n",
        "src = '/content/osm_test_data_set/datasets/map_matching/trace.csv'\n",
        "dst = '/content/'\n",
        "shutil.copy(src, dst)\n",
        "# src = '/content/MapMatching4GMNS/release/intpu_agent.csv'\n",
        "# dst = '/content/'\n",
        "# shutil.copy(src, dst)"
      ],
      "execution_count": null,
      "outputs": []
    },
    {
      "cell_type": "markdown",
      "metadata": {
        "id": "m31wPwOf6LyN"
      },
      "source": [
        "## 1. MapMatching4GMNS modeling"
      ]
    },
    {
      "cell_type": "code",
      "metadata": {
        "colab": {
          "base_uri": "https://localhost:8080/"
        },
        "id": "qj5fvt6T6Nfk",
        "outputId": "09f445a8-11cd-4979-e4de-f212913616ba"
      },
      "source": [
        "# \"\"\"install MapMatching4GMNS\"\"\"\n",
        "!pip install MapMatching4GMNS --upgrade"
      ],
      "execution_count": null,
      "outputs": [
        {
          "output_type": "stream",
          "text": [
            "Requirement already up-to-date: MapMatching4GMNS in /usr/local/lib/python3.7/dist-packages (0.2.4.3)\n"
          ],
          "name": "stdout"
        }
      ]
    },
    {
      "cell_type": "markdown",
      "metadata": {
        "id": "QlE2htTQ6O_U"
      },
      "source": [
        "To avoid complex data folder settings, please always first put the input data on the current directory.\n",
        "Once the package is imported, agent.csv can be generated."
      ]
    },
    {
      "cell_type": "markdown",
      "metadata": {
        "id": "bT3SmRwPFjmy"
      },
      "source": [
        "If you use colab to run the code, please download \"node.csv\",\"link.csv\",\"trace.csv\" from https://github.com/asu-trans-ai-lab/MapMatching4GMNS/tree/master/release, and upload them to the content folder."
      ]
    },
    {
      "cell_type": "code",
      "metadata": {
        "id": "YKybMq-r6W79"
      },
      "source": [
        "from MapMatching4GMNS import *\n",
        "import time\n",
        "import os.path"
      ],
      "execution_count": null,
      "outputs": []
    },
    {
      "cell_type": "markdown",
      "metadata": {
        "id": "n8W_HP1GWMnE"
      },
      "source": [
        "'''Two modes:\n",
        "\n",
        "    modes 0: reading trace.csv, then automaticically generate input_agent.csv and output agent.csv\n",
        "    model 1: reading input_agent.csv, then output agent.csv and link_performance.csv\n",
        "'''"
      ]
    },
    {
      "cell_type": "code",
      "metadata": {
        "colab": {
          "base_uri": "https://localhost:8080/"
        },
        "id": "KGUM7oCrWIDY",
        "outputId": "c931b97f-9aa9-4d6c-b661-131ee712df4c"
      },
      "source": [
        "if __name__ == \"__main__\":\n",
        "    #If the output data exists, please remove.\n",
        "    if(os.path.exists(\"agent.csv\")):\n",
        "       os.remove(\"agent.csv\")\n",
        "    if(os.path.exists(\"link_performance.csv\")):\n",
        "       os.remove(\"link_performance.csv\")\n",
        "       \n",
        "    # user can set mode 0, or mode 1\n",
        "    mode = 1 \n",
        "\n",
        "    start = time.time()\n",
        "    MapMatching4GMNS._optimal_MapMatching4GMNS_CAPI(mode)\n",
        "    end = time.time()\n",
        "    \n",
        "    print('MapMatching4GMNS time cost: %.6f seconds' % (end - start))\n",
        "    print(\"The output data is generated!\")"
      ],
      "execution_count": null,
      "outputs": [
        {
          "output_type": "stream",
          "text": [
            "\\MapMatching4GMNS run starts\n",
            "\\MapMatching4GMNS run completes\n",
            "MapMatching4GMNS time cost: 0.221137 seconds\n",
            "The output data is generated!\n"
          ],
          "name": "stdout"
        }
      ]
    },
    {
      "cell_type": "markdown",
      "metadata": {
        "id": "iuvhlU8M6ZPG"
      },
      "source": [
        "if you use google.colab, you can donwload result data"
      ]
    },
    {
      "cell_type": "code",
      "metadata": {
        "colab": {
          "base_uri": "https://localhost:8080/",
          "height": 17
        },
        "id": "xA_cV2fS6Z7X",
        "outputId": "5211b6d0-d4a6-43de-b529-6e0e7a9ba5a4"
      },
      "source": [
        "from google.colab import files\n",
        "if(os.path.exists(\"agent.csv\")):\n",
        " files.download(\"/content/agent.csv\")\n",
        "if(os.path.exists(\"input_agent.csv\")):\n",
        " files.download(\"/content/input_agent.csv\")\n",
        "if(os.path.exists(\"link_performance.csv\")):\n",
        " files.download(\"/content/link_performance.csv\")"
      ],
      "execution_count": null,
      "outputs": [
        {
          "output_type": "display_data",
          "data": {
            "application/javascript": [
              "\n",
              "    async function download(id, filename, size) {\n",
              "      if (!google.colab.kernel.accessAllowed) {\n",
              "        return;\n",
              "      }\n",
              "      const div = document.createElement('div');\n",
              "      const label = document.createElement('label');\n",
              "      label.textContent = `Downloading \"${filename}\": `;\n",
              "      div.appendChild(label);\n",
              "      const progress = document.createElement('progress');\n",
              "      progress.max = size;\n",
              "      div.appendChild(progress);\n",
              "      document.body.appendChild(div);\n",
              "\n",
              "      const buffers = [];\n",
              "      let downloaded = 0;\n",
              "\n",
              "      const channel = await google.colab.kernel.comms.open(id);\n",
              "      // Send a message to notify the kernel that we're ready.\n",
              "      channel.send({})\n",
              "\n",
              "      for await (const message of channel.messages) {\n",
              "        // Send a message to notify the kernel that we're ready.\n",
              "        channel.send({})\n",
              "        if (message.buffers) {\n",
              "          for (const buffer of message.buffers) {\n",
              "            buffers.push(buffer);\n",
              "            downloaded += buffer.byteLength;\n",
              "            progress.value = downloaded;\n",
              "          }\n",
              "        }\n",
              "      }\n",
              "      const blob = new Blob(buffers, {type: 'application/binary'});\n",
              "      const a = document.createElement('a');\n",
              "      a.href = window.URL.createObjectURL(blob);\n",
              "      a.download = filename;\n",
              "      div.appendChild(a);\n",
              "      a.click();\n",
              "      div.remove();\n",
              "    }\n",
              "  "
            ],
            "text/plain": [
              "<IPython.core.display.Javascript object>"
            ]
          },
          "metadata": {
            "tags": []
          }
        },
        {
          "output_type": "display_data",
          "data": {
            "application/javascript": [
              "download(\"download_8223181b-a501-4e5e-89b8-cf31dd428620\", \"agent.csv\", 497)"
            ],
            "text/plain": [
              "<IPython.core.display.Javascript object>"
            ]
          },
          "metadata": {
            "tags": []
          }
        },
        {
          "output_type": "display_data",
          "data": {
            "application/javascript": [
              "\n",
              "    async function download(id, filename, size) {\n",
              "      if (!google.colab.kernel.accessAllowed) {\n",
              "        return;\n",
              "      }\n",
              "      const div = document.createElement('div');\n",
              "      const label = document.createElement('label');\n",
              "      label.textContent = `Downloading \"${filename}\": `;\n",
              "      div.appendChild(label);\n",
              "      const progress = document.createElement('progress');\n",
              "      progress.max = size;\n",
              "      div.appendChild(progress);\n",
              "      document.body.appendChild(div);\n",
              "\n",
              "      const buffers = [];\n",
              "      let downloaded = 0;\n",
              "\n",
              "      const channel = await google.colab.kernel.comms.open(id);\n",
              "      // Send a message to notify the kernel that we're ready.\n",
              "      channel.send({})\n",
              "\n",
              "      for await (const message of channel.messages) {\n",
              "        // Send a message to notify the kernel that we're ready.\n",
              "        channel.send({})\n",
              "        if (message.buffers) {\n",
              "          for (const buffer of message.buffers) {\n",
              "            buffers.push(buffer);\n",
              "            downloaded += buffer.byteLength;\n",
              "            progress.value = downloaded;\n",
              "          }\n",
              "        }\n",
              "      }\n",
              "      const blob = new Blob(buffers, {type: 'application/binary'});\n",
              "      const a = document.createElement('a');\n",
              "      a.href = window.URL.createObjectURL(blob);\n",
              "      a.download = filename;\n",
              "      div.appendChild(a);\n",
              "      a.click();\n",
              "      div.remove();\n",
              "    }\n",
              "  "
            ],
            "text/plain": [
              "<IPython.core.display.Javascript object>"
            ]
          },
          "metadata": {
            "tags": []
          }
        },
        {
          "output_type": "display_data",
          "data": {
            "application/javascript": [
              "download(\"download_774f47b3-9d1e-4a8c-905e-27a724030e01\", \"input_agent.csv\", 3944)"
            ],
            "text/plain": [
              "<IPython.core.display.Javascript object>"
            ]
          },
          "metadata": {
            "tags": []
          }
        }
      ]
    }
  ]
}